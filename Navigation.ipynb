{
 "cells": [
  {
   "cell_type": "markdown",
   "metadata": {},
   "source": [
    "# Setting Up - Install Packages in the Workspace\n",
    "Before you move on to the project instruction, follow the cells below to ensure you have the necessary packages installed. \n",
    "The cells below will also educate you on installing newer pinned packages, should you need them in the future. "
   ]
  },
  {
   "cell_type": "code",
   "execution_count": 1,
   "metadata": {},
   "outputs": [],
   "source": [
    "# Step 1. Update the PATH env var. \n",
    "#This cell imports the library \"os\" that allows interaction with the operation system.\n",
    "import os  \n",
    "# After the import, the PATH library is updated with the local whete python and its dependencies are installed in this project\n",
    "os.environ['PATH'] = f\"{os.environ['PATH']}:/home/student/.local/bin\"\n",
    "os.environ['PATH'] = f\"{os.environ['PATH']}:/opt/conda/lib/python3.10/site-packages\"\n",
    "os.environ['PROTOCOL_BUFFERS_PYTHON_IMPLEMENTATION'] = 'python'"
   ]
  },
  {
   "cell_type": "code",
   "execution_count": 2,
   "metadata": {},
   "outputs": [
    {
     "name": "stdout",
     "output_type": "stream",
     "text": [
      "numpy @ file:///work/mkl/numpy_and_numpy_base_1682953417311/work\r\n"
     ]
    }
   ],
   "source": [
    "# Check the version of any specific package\n",
    "#Checking the version of the numpy library\n",
    "!python -m pip freeze | grep numpy"
   ]
  },
  {
   "cell_type": "code",
   "execution_count": null,
   "metadata": {},
   "outputs": [],
   "source": []
  },
  {
   "cell_type": "markdown",
   "metadata": {},
   "source": [
    "# Navigation\n",
    "\n",
    "---\n",
    "\n",
    "You are welcome to use this coding environment to train your agent for the project.  Follow the instructions below to get started!\n",
    "\n",
    "### 1. Start the Environment\n",
    "\n",
    "Run the next code cell to install a few packages.  This line will take a few minutes to run!"
   ]
  },
  {
   "cell_type": "code",
   "execution_count": 3,
   "metadata": {},
   "outputs": [],
   "source": [
    "#Installig packages necessary to complete this project as unityagents\n",
    "!pip -q install ."
   ]
  },
  {
   "cell_type": "markdown",
   "metadata": {},
   "source": [
    "The environment is already saved in the Workspace and can be accessed at the file path provided below.  Please run the next code cell without making any changes."
   ]
  },
  {
   "cell_type": "code",
   "execution_count": 18,
   "metadata": {},
   "outputs": [],
   "source": [
    "# Restart the Kernel. \n",
    "# If you skip this step, your notebook may not be able to import the packages well. \n"
   ]
  },
  {
   "cell_type": "code",
   "execution_count": 1,
   "metadata": {},
   "outputs": [
    {
     "name": "stdout",
     "output_type": "stream",
     "text": [
      "Found path: /data/Banana_Linux_NoVis/Banana.x86_64\n",
      "Mono path[0] = '/data/Banana_Linux_NoVis/Banana_Data/Managed'\n",
      "Mono config path = '/data/Banana_Linux_NoVis/Banana_Data/MonoBleedingEdge/etc'\n",
      "Preloaded 'libgrpc_csharp_ext.x64.so'\n",
      "Unable to preload the following plugins:\n",
      "\tlibgrpc_csharp_ext.x86.so\n",
      "PlayerPrefs - Creating folder: /home/student/.config/unity3d/Unity Technologies\n",
      "PlayerPrefs - Creating folder: /home/student/.config/unity3d/Unity Technologies/Unity Environment\n",
      "Logging to /home/student/.config/unity3d/Unity Technologies/Unity Environment/Player.log\n"
     ]
    },
    {
     "name": "stderr",
     "output_type": "stream",
     "text": [
      "INFO:unityagents:\n",
      "'Academy' started successfully!\n",
      "Unity Academy name: Academy\n",
      "        Number of Brains: 1\n",
      "        Number of External Brains : 1\n",
      "        Lesson number : 0\n",
      "        Reset Parameters :\n",
      "\t\t\n",
      "Unity brain name: BananaBrain\n",
      "        Number of Visual Observations (per agent): 0\n",
      "        Vector Observation space type: continuous\n",
      "        Vector Observation space size (per agent): 37\n",
      "        Number of stacked Vector Observation: 1\n",
      "        Vector Action space type: discrete\n",
      "        Vector Action space size (per agent): 4\n",
      "        Vector Action descriptions: , , , \n"
     ]
    }
   ],
   "source": [
    "#Import the Unity package and create a Banana environment\n",
    "from unityagents import UnityEnvironment\n",
    "import numpy as np\n",
    "\n",
    "# please do not modify the line below\n",
    "env = UnityEnvironment(file_name=\"/data/Banana_Linux_NoVis/Banana.x86_64\")"
   ]
  },
  {
   "cell_type": "markdown",
   "metadata": {},
   "source": [
    "Environments contain **_brains_** which are responsible for deciding the actions of their associated agents. Here we check for the first brain available, and set it as the default brain we will be controlling from Python."
   ]
  },
  {
   "cell_type": "code",
   "execution_count": 2,
   "metadata": {},
   "outputs": [],
   "source": [
    "# get the default brain (the only one available in this environment)\n",
    "brain_name = env.brain_names[0]\n",
    "brain = env.brains[brain_name]"
   ]
  },
  {
   "cell_type": "markdown",
   "metadata": {},
   "source": [
    "### 2. Examine the State and Action Spaces\n",
    "\n",
    "Run the code cell below to print some information about the environment."
   ]
  },
  {
   "cell_type": "code",
   "execution_count": 3,
   "metadata": {},
   "outputs": [
    {
     "name": "stdout",
     "output_type": "stream",
     "text": [
      "Number of agents: 1\n",
      "Number of actions: 4\n",
      "States look like: [1.         0.         0.         0.         0.84408134 0.\n",
      " 0.         1.         0.         0.0748472  0.         1.\n",
      " 0.         0.         0.25755    1.         0.         0.\n",
      " 0.         0.74177343 0.         1.         0.         0.\n",
      " 0.25854847 0.         0.         1.         0.         0.09355672\n",
      " 0.         1.         0.         0.         0.31969345 0.\n",
      " 0.        ]\n",
      "States have length: 37\n"
     ]
    }
   ],
   "source": [
    "# reset the environment\n",
    "env_info = env.reset(train_mode=True)[brain_name]\n",
    "\n",
    "# number of agents in the environment\n",
    "print('Number of agents:', len(env_info.agents)) #1\n",
    "\n",
    "# number of actions\n",
    "action_size = brain.vector_action_space_size \n",
    "print('Number of actions:', action_size) #4 Move forward, move backwars, turn left, turn right\n",
    "\n",
    "# examine the state space \n",
    "state = env_info.vector_observations[0]\n",
    "print('States look like:', state) # A matrix with agent's velocity, along with ray-based perception of objects around the agent's forward direction.\n",
    "state_size = len(state) \n",
    "print('States have length:', state_size)  #37 "
   ]
  },
  {
   "cell_type": "markdown",
   "metadata": {},
   "source": [
    "### 3. Take Random Actions in the Environment\n",
    "\n",
    "In the next code cell, you will learn how to use the Python API to control the agent and receive feedback from the environment.\n",
    "\n",
    "Note that **in this coding environment, you will not be able to watch the agent while it is training**, and you should set `train_mode=True` to restart the environment."
   ]
  },
  {
   "cell_type": "code",
   "execution_count": 4,
   "metadata": {},
   "outputs": [
    {
     "name": "stdout",
     "output_type": "stream",
     "text": [
      "Score: 0.0\n"
     ]
    }
   ],
   "source": [
    "env_info = env.reset(train_mode=True)[brain_name] # reset the environment\n",
    "state = env_info.vector_observations[0]            # get the current state\n",
    "score = 0                                          # initialize the score\n",
    "\n",
    "#While the episode is not \"done\", the agent will take a random action, collect rewards and update its state.\n",
    "while True:\n",
    "    \n",
    "    action = np.random.randint(action_size)        # select an action\n",
    "    env_info = env.step(action)[brain_name]        # send the action to the environment\n",
    "    next_state = env_info.vector_observations[0]   # get the next state\n",
    "    reward = env_info.rewards[0]                   # get the reward\n",
    "    done = env_info.local_done[0]                 # see if episode has finished\n",
    "    score += reward                                # update the score\n",
    "    state = next_state                             # roll over the state to next time step\n",
    "    if done:                                       # exit loop if episode finished\n",
    "        break\n",
    "    \n",
    "print(\"Score: {}\".format(score))"
   ]
  },
  {
   "cell_type": "markdown",
   "metadata": {},
   "source": [
    "When finished, you can close the environment."
   ]
  },
  {
   "cell_type": "code",
   "execution_count": 5,
   "metadata": {},
   "outputs": [],
   "source": [
    "#env.close()\n",
    "#This line is comented is order to not close the environment before the new implementation below."
   ]
  },
  {
   "cell_type": "markdown",
   "metadata": {},
   "source": [
    "### 4. It's Your Turn!\n",
    "\n",
    "Now it's your turn to train your own agent to solve the environment!  A few **important notes**:\n",
    "- When training the environment, set `train_mode=True`, so that the line for resetting the environment looks like the following:\n",
    "```python\n",
    "env_info = env.reset(train_mode=True)[brain_name]\n",
    "```\n",
    "- To structure your work, you're welcome to work directly in this Jupyter notebook, or you might like to start over with a new file!  You can see the list of files in the workspace by clicking on **_Jupyter_** in the top left corner of the notebook.\n",
    "- In this coding environment, you will not be able to watch the agent while it is training.  However, **_after training the agent_**, you can download the saved model weights to watch the agent on your own machine! "
   ]
  },
  {
   "cell_type": "code",
   "execution_count": 6,
   "metadata": {},
   "outputs": [],
   "source": [
    "#Import Packages"
   ]
  },
  {
   "cell_type": "code",
   "execution_count": 7,
   "metadata": {},
   "outputs": [],
   "source": [
    "import torch #imports the deep learning library\n",
    "import torch.nn.functional as F #torch.nn.functional constains the activation functions for the neural networks\n",
    "import torch.nn as nn #with torch.nn is possible to build the neural network with the desired architecture.\n",
    "import torch.optim as optim #torch.optim contains the optmization algorithm to perform gradient descent as Adam or Stochastic Gradient Descent. \n",
    "import random #package for random number generation or random sampling.\n",
    "from collections import namedtuple, deque #imports the namedtuple and deque structures, that will be useful in this project.\n",
    "#n_device = torch.cuda.current_device() #Verify the type of device the project os running, as cuda or gpu.\n",
    "#torch.cuda.get_device_name(n_device) #Print the device. It must be a gpu for the project run faster.\n"
   ]
  },
  {
   "cell_type": "code",
   "execution_count": 8,
   "metadata": {},
   "outputs": [],
   "source": [
    "seed = 42 #Defining a seed variable, that will be used in the random sampling."
   ]
  },
  {
   "cell_type": "code",
   "execution_count": 9,
   "metadata": {},
   "outputs": [],
   "source": [
    "#Defining the Neural Network:\n",
    "# It consistis of 4 layers:\n",
    "# Input layer: state_size (37 neurons)\n",
    "# First Hidden Layer: 256 neurons\n",
    "# Second Hidden Layer: 128 neurons\n",
    "# Output Layer: action_size (4)\n",
    "\n",
    "#Some combinations of number of layers and number of neurons in each layer were tested, and this configuration worked well. \n",
    "# As we are getting the state as a input (and not the image of the game), it will be a fully connected neural network (with Linear comnnections). \n",
    "class QNetwork(nn.Module):\n",
    "    def __init__(self, state_size, action_size, seed, fc1_units = 128, fc2_units = 128):\n",
    "        super(QNetwork, self).__init__() #getting the atributes of the super class nn.Module.\n",
    "        self.seed = torch.manual_seed(seed) #Selecting the random seed as 42\n",
    "        self.fc1 = nn.Linear(state_size, fc1_units) #Linear conection between the input and the first hidden layer.\n",
    "        self.fc2 = nn.Linear(fc1_units, fc2_units) #Linear conection between the first hidden layer and the second one.\n",
    "        self.fc3 = nn.Linear(fc2_units, action_size) #Linear conection between the second hidden layer and the output.\n",
    "\n",
    "    \n",
    "    #Defining the forward process of this neural network.\n",
    "    #The chosen activation function for all the layers (except the last one) was the ReLu.\n",
    "    #ReLu is a activation function that returns the value passed if it is greater than zero, and zero otherwise.\n",
    "    def forward(self, state):\n",
    "        x = F.relu(self.fc1(state)) \n",
    "        x = F.relu(self.fc2(x))\n",
    "        return self.fc3(x)"
   ]
  },
  {
   "cell_type": "code",
   "execution_count": 10,
   "metadata": {},
   "outputs": [],
   "source": [
    "BUFFER_SIZE = int(1e5)  # Size of the Replay Buffer that de Deep Q Network (DQN) will learn\n",
    "BATCH_SIZE = 64         # Batch size that will be sampled from the Replay Buffer for the DQN training.\n",
    "GAMMA = 0.9            # Time discount factor, so the model will prioritize short term gains without ignoring long term ones.\n",
    "TAU = 1e-3             # Soft update of target parameters\n",
    "LR = 5e-4               # learning rate of the optimization algorithm\n",
    "UPDATE_EVERY = 16        # how often to update the local network"
   ]
  },
  {
   "cell_type": "code",
   "execution_count": 11,
   "metadata": {},
   "outputs": [],
   "source": [
    "device = torch.device(\"cuda:0\" if torch.cuda.is_available() else \"cpu\") #verifies if the project is running is running in a gpu (cuda) "
   ]
  },
  {
   "cell_type": "code",
   "execution_count": 12,
   "metadata": {},
   "outputs": [],
   "source": [
    "# Instantiate the Agent class, defining the interaction with the environment and how it will learn.\n",
    "class Agent():\n",
    "    \"\"\"Interacts with and learns from the environment.\"\"\"\n",
    "\n",
    "    def __init__(self, state_size, action_size, seed):\n",
    "        \"\"\"Initialize an Agent object.\n",
    "        \n",
    "        Params\n",
    "        ======\n",
    "            state_size (int): dimension of each state\n",
    "            action_size (int): dimension of each action\n",
    "            seed (int): random seed\n",
    "        \"\"\"\n",
    "        self.state_size = state_size  #37\n",
    "        self.action_size = action_size #4\n",
    "        self.seed = random.seed(seed) #42\n",
    "\n",
    "        # Q-Network\n",
    "        #Instatiate the local and the target networks, with the same architecture, and pass them to the device (cgpu or cpu)\n",
    "        self.qnetwork_local = QNetwork(state_size, action_size, seed).to(device)\n",
    "        self.qnetwork_target = QNetwork(state_size, action_size, seed).to(device)\n",
    "        self.optimizer = optim.Adam(self.qnetwork_local.parameters(), lr=LR) #The optmization algorithm chosen was Adam\n",
    "        loss_fn = torch.nn.MSELoss() #The loss function to compare the predicted values (resulted from the local network) and the real ones (target network) is the Mean Squared Error\n",
    "\n",
    "        # Defines the memory of the agent as a ReplayBuyffer class (instatied below) \n",
    "        self.memory = ReplayBuffer(action_size, BUFFER_SIZE, BATCH_SIZE, seed)\n",
    "        # Initialize time step (for updating every UPDATE_EVERY steps)\n",
    "        self.t_step = 0\n",
    "    \n",
    "    def step(self, state, action, reward, next_state, done):\n",
    "        # Save experience (state, action, reward, next_state, done) tuple in replay memory\n",
    "        self.memory.add(state, action, reward, next_state, done)\n",
    "        \n",
    "        # Learn every UPDATE_EVERY time steps.\n",
    "        self.t_step = (self.t_step + 1) % UPDATE_EVERY\n",
    "        if self.t_step == 0:\n",
    "            # If enough samples are available in memory, get random subset and learn\n",
    "            if len(self.memory) > BATCH_SIZE:\n",
    "                experiences = self.memory.sample()\n",
    "                self.learn(experiences, GAMMA) #the learn method is created below.\n",
    "\n",
    "    def act(self, state, eps=0.):\n",
    "        \"\"\"Returns actions for given state as per current policy.\n",
    "        \n",
    "        Params\n",
    "        ======\n",
    "            state (array_like): current state\n",
    "            eps (float): epsilon, for epsilon-greedy action selection\n",
    "        \"\"\"\n",
    "        state = torch.from_numpy(state).float().unsqueeze(0).to(device) #converts the state array to the torch tensor format\n",
    "        self.qnetwork_local.eval() #Activates the evaluation mode of the neural network\n",
    "        with torch.no_grad():  #Sets the neural network to not compute the gradients (for inference it is not necssary) \n",
    "            action_values = self.qnetwork_local(state) #Predicts the action values with the given state\n",
    "        self.qnetwork_local.train() #Sets the neural network to the train mode again\n",
    "\n",
    "        # Epsilon-greedy action selection.\n",
    "        # If the random number is les than eps, a random action will be chosen, otherwise it will select the action with the max action_value\n",
    "        if random.random() > eps:\n",
    "            return np.argmax(action_values.cpu().data.numpy())\n",
    "        else:\n",
    "            return random.choice(np.arange(self.action_size))\n",
    "\n",
    "    def learn(self, experiences, gamma):\n",
    "        \"\"\"Update value parameters using given batch of experience tuples.\n",
    "\n",
    "        Params\n",
    "        ======\n",
    "            experiences (Tuple[torch.Variable]): tuple of (s, a, r, s', done) tuples \n",
    "            gamma (float): discount factor\n",
    "            \n",
    "            \n",
    "        \"\"\"\n",
    "        \n",
    "        # Unpack experiences\n",
    "        states, actions, rewards, next_states, dones = experiences\n",
    "\n",
    "        # Get the current Q values\n",
    "        current_q_values = self.qnetwork_local(states).gather(1, actions)\n",
    "\n",
    "        # Compute the target Q values\n",
    "        with torch.no_grad():\n",
    "            next_q_values = self.qnetwork_target(next_states).max(1)[0].unsqueeze(1)\n",
    "            targets = rewards + (gamma * next_q_values * (1 - dones)) #Bellman Equation\n",
    "\n",
    "        # Compute the loss\n",
    "        loss = F.mse_loss(current_q_values, targets)\n",
    "\n",
    "        # Optimize the model\n",
    "        self.optimizer.zero_grad() #sets the gradients to zero, so the algorithm do not add them\n",
    "        loss.backward() #Backpropagation\n",
    "        self.optimizer.step() #Updates the optimizer\n",
    "\n",
    "        # Update the target network\n",
    "        self.soft_update(self.qnetwork_local, self.qnetwork_target, TAU) #Soft update is instatiated below\n",
    "    \n",
    "        \n",
    "                 \n",
    "    #The update of the target network is done in this soft manner because it improves stability, reduce variability and improves convergence.\n",
    "    def soft_update(self, local_model, target_model, tau):\n",
    "        \"\"\"Soft update model parameters.\n",
    "        θ_target = τ*θ_local + (1 - τ)*θ_target\n",
    "\n",
    "        Params\n",
    "        ======\n",
    "            local_model (PyTorch model): weights will be copied from\n",
    "            target_model (PyTorch model): weights will be copied to\n",
    "            tau (float): interpolation parameter \n",
    "        \"\"\"\n",
    "        for target_param, local_param in zip(target_model.parameters(), local_model.parameters()):\n",
    "            target_param.data.copy_(tau*local_param.data + (1.0-tau)*target_param.data)\n",
    "\n",
    "#Instatiates the ReplayBuffer class, to manage the addition and removal of experiences from the experience deque.\n",
    "class ReplayBuffer:\n",
    "    \"\"\"Fixed-size buffer to store experience tuples.\"\"\"\n",
    "\n",
    "    def __init__(self, action_size, buffer_size, batch_size, seed):\n",
    "        \"\"\"Initialize a ReplayBuffer object.\n",
    "\n",
    "        Params\n",
    "        ======\n",
    "            action_size (int): dimension of each action\n",
    "            buffer_size (int): maximum size of buffer\n",
    "            batch_size (int): size of each training batch\n",
    "            seed (int): random seed\n",
    "        \"\"\"\n",
    "        self.action_size = action_size #4\n",
    "        self.memory = deque(maxlen=buffer_size) # Deque structure   \n",
    "        self.batch_size = batch_size \n",
    "        self.experience = namedtuple(\"Experience\", field_names=[\"state\", \"action\", \"reward\", \"next_state\", \"done\"]) #Structure similar to a tuple, but each field gets a name\n",
    "        self.seed = random.seed(seed)\n",
    "    \n",
    "    #Adding the experience tuple to the end of the deque\n",
    "    def add(self, state, action, reward, next_state, done):\n",
    "        \"\"\"Add a new experience to memory.\"\"\"\n",
    "        e = self.experience(state, action, reward, next_state, done)\n",
    "        self.memory.append(e)\n",
    "    \n",
    "    #Samples randomly batch_size samples from the deque, and converts to the torch tensor format.\n",
    "    def sample(self):\n",
    "        \"\"\"Randomly sample a batch of experiences from memory.\"\"\"\n",
    "        experiences = random.sample(self.memory, k=self.batch_size)\n",
    "\n",
    "        states = torch.from_numpy(np.vstack([e.state for e in experiences if e is not None])).float().to(device)\n",
    "        actions = torch.from_numpy(np.vstack([e.action for e in experiences if e is not None])).long().to(device)\n",
    "        rewards = torch.from_numpy(np.vstack([e.reward for e in experiences if e is not None])).float().to(device)\n",
    "        next_states = torch.from_numpy(np.vstack([e.next_state for e in experiences if e is not None])).float().to(device)\n",
    "        dones = torch.from_numpy(np.vstack([e.done for e in experiences if e is not None]).astype(np.uint8)).float().to(device)\n",
    "  \n",
    "        return (states, actions, rewards, next_states, dones)\n",
    "\n",
    "    def __len__(self):\n",
    "        \"\"\"Return the current size of internal memory.\"\"\"\n",
    "        return len(self.memory)"
   ]
  },
  {
   "cell_type": "code",
   "execution_count": 13,
   "metadata": {},
   "outputs": [],
   "source": [
    "#Initialize an agent.\n",
    "agent = Agent(state_size = len(env_info.vector_observations[0]), action_size = brain.vector_action_space_size, seed = 42)"
   ]
  },
  {
   "cell_type": "code",
   "execution_count": 14,
   "metadata": {},
   "outputs": [
    {
     "name": "stdout",
     "output_type": "stream",
     "text": [
      "Episode 100\tAverage Score: 0.47\n",
      "Episode 200\tAverage Score: 3.19\n",
      "Episode 300\tAverage Score: 6.11\n",
      "Episode 400\tAverage Score: 8.57\n",
      "Episode 500\tAverage Score: 9.97\n",
      "Episode 600\tAverage Score: 11.19\n",
      "Episode 700\tAverage Score: 12.36\n",
      "Episode 737\tAverage Score: 13.01\n",
      "Environment solved in 637 episodes!\tAverage Score: 13.01\n"
     ]
    }
   ],
   "source": [
    "def dqn(n_episodes = 2000, max_t = 1000, eps_start = 1.0, eps_end = 0.01, eps_decay = 0.995):\n",
    "    \"\"\"Initialize the Deep Q Netqwork.\n",
    "\n",
    "        Params\n",
    "        ======\n",
    "            n_episodes (int): number of episodes for training the neural network\n",
    "            max_t (int): max number os sets in each episode if it is not done\n",
    "            eps_start (float): start value of epslon\n",
    "            eps_end (float): end value of epslon\n",
    "            eps_decay (float): decayment rate of epslon\n",
    "    \"\"\"\n",
    "    scores = []                        # list containing scores from each episode\n",
    "    scores_window = deque(maxlen=100)  # deque has size 100\n",
    "    eps = eps_start                    # initialize epsilon\n",
    "    for i_episode in range(1, n_episodes+1): \n",
    "        env_info = env.reset(train_mode=True)[brain_name] #reset the environment in the begginning of the episode\n",
    "        state = env_info.vector_observations[0] #initial state\n",
    "        score = 0 #reset score\n",
    "        for t in range(max_t): #loop over steps until it is done or reached max_t\n",
    "            action = agent.act(state, eps) #given the state, chooses the action\n",
    "            env_info = env.step(action)[brain_name] #perform the action and receives new state, reward and done.\n",
    "            next_state = env_info.vector_observations[0]  \n",
    "            reward = env_info.rewards[0]\n",
    "            done = env_info.local_done[0]\n",
    "            agent.step(state, action, reward, next_state, done)  #saves experience tuple and updates the neural networks\n",
    "            state = next_state #update steps\n",
    "            score += reward #saves reward\n",
    "            if done:\n",
    "                break \n",
    "        scores_window.append(score)       # save most recent score\n",
    "        scores.append(score)              # save most recent score\n",
    "        eps = max(eps_end, eps_decay*eps) # decrease epsilon\n",
    "        print('\\rEpisode {}\\tAverage Score: {:.2f}'.format(i_episode, np.mean(scores_window)), end=\"\")\n",
    "        if i_episode % 100 == 0:\n",
    "            print('\\rEpisode {}\\tAverage Score: {:.2f}'.format(i_episode, np.mean(scores_window)))\n",
    "        if np.mean(scores_window)>=13:\n",
    "            print('\\nEnvironment solved in {:d} episodes!\\tAverage Score: {:.2f}'.format(i_episode-100, np.mean(scores_window)))\n",
    "            torch.save(agent.qnetwork_local.state_dict(), 'checkpoint.pth')\n",
    "            break\n",
    "    return scores\n",
    "\n",
    "#Initialize the dqn\n",
    "scores = dqn()\n"
   ]
  },
  {
   "cell_type": "code",
   "execution_count": 15,
   "metadata": {},
   "outputs": [
    {
     "name": "stderr",
     "output_type": "stream",
     "text": [
      "INFO:matplotlib.font_manager:generated new fontManager\n"
     ]
    },
    {
     "data": {
      "image/png": "[encoded data removed]",
      "text/plain": [
       "<Figure size 640x480 with 1 Axes>"
      ]
     },
     "metadata": {},
     "output_type": "display_data"
    }
   ],
   "source": [
    "#Plotting the increasing in the scores \n",
    "import matplotlib.pyplot as plt\n",
    "fig = plt.figure()\n",
    "ax = fig.add_subplot(111)\n",
    "plt.plot(np.arange(len(scores)), scores)\n",
    "plt.ylabel('Score')\n",
    "plt.xlabel('Episode #')\n",
    "plt.show()"
   ]
  },
  {
   "cell_type": "code",
   "execution_count": null,
   "metadata": {},
   "outputs": [],
   "source": []
  }
 ],
 "metadata": {
  "kernelspec": {
   "display_name": "Python 3 (ipykernel)",
   "language": "python",
   "name": "python3"
  },
  "language_info": {
   "codemirror_mode": {
    "name": "ipython",
    "version": 3
   },
   "file_extension": ".py",
   "mimetype": "text/x-python",
   "name": "python",
   "nbconvert_exporter": "python",
   "pygments_lexer": "ipython3",
   "version": "3.10.11"
  }
 },
 "nbformat": 4,
 "nbformat_minor": 2
}
